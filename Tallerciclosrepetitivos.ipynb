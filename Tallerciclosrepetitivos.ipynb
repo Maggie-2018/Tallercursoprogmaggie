{
  "nbformat": 4,
  "nbformat_minor": 0,
  "metadata": {
    "colab": {
      "provenance": []
    },
    "kernelspec": {
      "name": "python3",
      "display_name": "Python 3"
    },
    "language_info": {
      "name": "python"
    }
  },
  "cells": [
    {
      "cell_type": "code",
      "source": [
        "for i in range(0,101,2):\n",
        "  print(i)"
      ],
      "metadata": {
        "colab": {
          "base_uri": "https://localhost:8080/"
        },
        "id": "k_N_Qylty4na",
        "outputId": "33bb9add-5356-4428-fa22-1a294377e1d1"
      },
      "execution_count": 1,
      "outputs": [
        {
          "output_type": "stream",
          "name": "stdout",
          "text": [
            "0\n",
            "2\n",
            "4\n",
            "6\n",
            "8\n",
            "10\n",
            "12\n",
            "14\n",
            "16\n",
            "18\n",
            "20\n",
            "22\n",
            "24\n",
            "26\n",
            "28\n",
            "30\n",
            "32\n",
            "34\n",
            "36\n",
            "38\n",
            "40\n",
            "42\n",
            "44\n",
            "46\n",
            "48\n",
            "50\n",
            "52\n",
            "54\n",
            "56\n",
            "58\n",
            "60\n",
            "62\n",
            "64\n",
            "66\n",
            "68\n",
            "70\n",
            "72\n",
            "74\n",
            "76\n",
            "78\n",
            "80\n",
            "82\n",
            "84\n",
            "86\n",
            "88\n",
            "90\n",
            "92\n",
            "94\n",
            "96\n",
            "98\n",
            "100\n"
          ]
        }
      ]
    },
    {
      "cell_type": "code",
      "source": [
        "num = int(input(\"Digite un numero entero positivo: \"))\n",
        "\n",
        "for i in range(1,num + 1,2):\n",
        "  print(i,end = \" \")"
      ],
      "metadata": {
        "colab": {
          "base_uri": "https://localhost:8080/"
        },
        "id": "Yhye-oKNzUgC",
        "outputId": "642d443f-ea90-4ed9-b5a0-8a30b14bc0e3"
      },
      "execution_count": 4,
      "outputs": [
        {
          "output_type": "stream",
          "name": "stdout",
          "text": [
            "Digite un numero entero positivo: 16\n",
            "1 3 5 7 9 11 13 15 "
          ]
        }
      ]
    },
    {
      "cell_type": "code",
      "source": [
        "acu = 0\n",
        "\n",
        "for i in range(0,100,2):\n",
        "  #print(i)\n",
        "  acu = acu + i\n",
        "print(f\"El total de la suma de los numeros pares del 1 hasta el 100 es {acu}\")"
      ],
      "metadata": {
        "colab": {
          "base_uri": "https://localhost:8080/"
        },
        "id": "AzGM66c70G5j",
        "outputId": "a30ba96f-e29d-4f0f-fcb4-93fd5029f2bb"
      },
      "execution_count": 3,
      "outputs": [
        {
          "output_type": "stream",
          "name": "stdout",
          "text": [
            "El total de la suma de los numeros pares del 1 hasta el 100 es 2450\n"
          ]
        }
      ]
    }
  ]
}