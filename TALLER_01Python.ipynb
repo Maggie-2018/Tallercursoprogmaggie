{
  "nbformat": 4,
  "nbformat_minor": 0,
  "metadata": {
    "colab": {
      "provenance": []
    },
    "kernelspec": {
      "name": "python3",
      "display_name": "Python 3"
    },
    "language_info": {
      "name": "python"
    }
  },
  "cells": [
    {
      "cell_type": "markdown",
      "source": [
        "HOMEWORK\n"
      ],
      "metadata": {
        "id": "sMrQrN-IRRWi"
      }
    },
    {
      "cell_type": "code",
      "source": [
        "identificacion = input(\"digite nro de identificacion: \")\n",
        "nombre = \"Maggie\"\n",
        "print(nombre)\n",
        "apellido = \"Hernandez\"\n",
        "print(apellido)\n",
        "direccion = \"calle 6d 80-89\"\n",
        "print(direccion)\n",
        "telefono = 7508308\n",
        "print(telefono)\n",
        "edad = 40\n",
        "print(edad)\n",
        "estado_civil = \"soltera\"\n",
        "print(estado_civil)\n",
        "nro_de_hijos = 1\n",
        "print(nro_de_hijos)\n",
        "estatura_en_centimetros = 160\n",
        "print(estatura_en_centimetros)\n",
        "dia_de_contratacion = \"08\"\n",
        "mes_de_contratacion = \"03\"\n",
        "año_de_contratacion = \"2022\"\n",
        "print(dia_de_contratacion + \"/\" + mes_de_contratacion + \"/\" + año_de_contratacion)\n",
        "sueldo_basico = 4000000\n",
        "print(sueldo_basico)\n",
        "dias_laborados = 365\n",
        "print(dias_laborados)\n"
      ],
      "metadata": {
        "colab": {
          "base_uri": "https://localhost:8080/"
        },
        "id": "ewI63A61RU7Y",
        "outputId": "698be2e7-3f95-4a2e-b8b5-fbffdc4aed77"
      },
      "execution_count": 2,
      "outputs": [
        {
          "output_type": "stream",
          "name": "stdout",
          "text": [
            "digite nro de identificacion: 52910410\n",
            "Maggie\n",
            "Hernandez\n",
            "calle 6d 80-89\n",
            "7508308\n",
            "40\n",
            "soltera\n",
            "1\n",
            "160\n",
            "08/03/2022\n",
            "4000000\n",
            "365\n"
          ]
        }
      ]
    }
  ]
}