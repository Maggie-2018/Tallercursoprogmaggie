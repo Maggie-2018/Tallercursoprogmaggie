{
  "nbformat": 4,
  "nbformat_minor": 0,
  "metadata": {
    "colab": {
      "provenance": []
    },
    "kernelspec": {
      "name": "python3",
      "display_name": "Python 3"
    },
    "language_info": {
      "name": "python"
    }
  },
  "cells": [
    {
      "cell_type": "markdown",
      "source": [
        "CONDICIONALES\n"
      ],
      "metadata": {
        "id": "N-NkYZ8VNxNv"
      }
    },
    {
      "cell_type": "code",
      "source": [
        "no_de_identificacion = int(input(\"No de identificacion:\"))\n",
        "nombre = input(\"nombre:\")\n",
        "apellido = input(\"apellido:\")\n",
        "direccion = input(\"direccion:\")\n",
        "telefono = input(\"telefono:\")\n",
        "edad = int(input(\"edad:\"))\n",
        "estado_civil = input(\"estado civil:\")\n",
        "no_de_hijos = int(input(\"no de hijos:\"))\n",
        "estatura_en_cm = input(\"estatura en cm:\")\n",
        "fecha_de_contratacion = input(\"fecha de contratacion (dia/mes/año):\")\n",
        "sueldo_basico = float(input(\"sueldo basico:\"))\n",
        "dias_laborados = input(\"dias laborados:\")\n",
        "# print(no_de_identificacion + \" , \" + nombre + \" , \" + apellido + \" , \" + direccion + \" , \" + telefono + \" , \" + edad + \" , \" + estado_civil + \" ,\" + no_de_hijos )\n",
        "\n",
        "# Si el empleado es mayor de 55 años disfrutara de un bono de prepension correspondiente al 5% de su sueldo basico\n",
        "if edad > 55:\n",
        "  bono = sueldo_basico * 0.55\n",
        "  suel_total = sueldo_basico + bono\n",
        "  print(\"\\nBono de prepension ${:,.0f} \\nSueldo total ${:,.0f}\".format(bono, suel_total))\n",
        "else:\n",
        "  print(f\"\\nSueldo total ${sueldo_basico:,.0f}\")\n",
        "\n",
        "# Si el empleado es casado y tiene hijos se le otorgará un paseo cada diciembre\n",
        "if estado_civil == \"casado\" and no_de_hijos >=1:\n",
        "  print(\"\\nAcreedor de un viaje pago cada diciembre\")\n",
        "else:\n",
        "  print(\"\\nNo es acreedor de un viaje pago cada diciembre\")\n",
        "\n",
        "# Si el sueldo básico está entre 1000000 y 1500000 tendrá una comisión del 2% sobre el valor del sueldo\n",
        "# Si el sueldo básico está entre 1500001 y 2000000 tendrá una comisión del 5% sobre el valor del sueldo\n",
        "# para todos los demás casos no habrá comisión\n",
        "if sueldo_basico >= 1000000 and sueldo_basico <= 1500000:\n",
        "  comi1 = sueldo_basico * 0.02\n",
        "  suel_comi1 = sueldo_basico + comi1\n",
        "  print(\"\\nValor de comision ${:,.0f} \\nSueldo total ${:,.0f}\".format(comi1, suel_comi1))\n",
        "elif sueldo_basico >= 1500001 and sueldo_basico <= 2000000:\n",
        "  comi2 = sueldo_basico * 0.05\n",
        "  suel_comi2 = sueldo_basico + comi2\n",
        "  print(\"\\nValor de comision ${:,.0f} \\nSueldo total ${:,.0f}\".format(comi2, suel_comi2))\n",
        "else:\n",
        "  print(\"\\nSin comision\")\n",
        "\n",
        "# Si el empleado trabajó más de 20 días al mes y su sueldo es menor a 1000000 tendrá derecho a un bono de alimentación     "
      ],
      "metadata": {
        "colab": {
          "base_uri": "https://localhost:8080/"
        },
        "id": "p1tisbyoN1yA",
        "outputId": "3e8bbd20-ae86-4759-c56a-089750ccaa9f"
      },
      "execution_count": 3,
      "outputs": [
        {
          "output_type": "stream",
          "name": "stdout",
          "text": [
            "No de identificacion:524\n",
            "nombre:jose\n",
            "apellido:perez\n",
            "direccion:cra 80 9010\n",
            "telefono:750765\n",
            "edad:55\n",
            "estado civil:soltero\n",
            "no de hijos:1\n",
            "estatura en cm:160\n",
            "fecha de contratacion (dia/mes/año):12/03/2022\n",
            "sueldo basico:1500001\n",
            "dias laborados:365\n",
            "\n",
            "Sueldo total $1,500,001\n",
            "\n",
            "No es acreedor de un viaje pago cada diciembre\n",
            "\n",
            "Valor de comision $75,000 \n",
            "Sueldo total $1,575,001\n"
          ]
        }
      ]
    },
    {
      "cell_type": "markdown",
      "source": [],
      "metadata": {
        "id": "ncxJMTB7Nylm"
      }
    }
  ]
}