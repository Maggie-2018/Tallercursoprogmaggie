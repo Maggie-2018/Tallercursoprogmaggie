{
  "nbformat": 4,
  "nbformat_minor": 0,
  "metadata": {
    "colab": {
      "provenance": []
    },
    "kernelspec": {
      "name": "python3",
      "display_name": "Python 3"
    },
    "language_info": {
      "name": "python"
    }
  },
  "cells": [
    {
      "cell_type": "code",
      "execution_count": null,
      "metadata": {
        "id": "LYi9-2rBAcff"
      },
      "outputs": [],
      "source": [
        "resp = \"si\"\n",
        "while resp == \"si\" or resp == \"s\" or resp == \"yes\":\n",
        "\n",
        "  no_identificacion = float(input(\"No de identificacion:\"))\n",
        "  nombres = input(\"Nombres:\")\n",
        "  apellidos = input(\"Apellidos:\")\n",
        "  direccion = input(\"Direccion:\")\n",
        "  telefono = float(input(\"telefono:\"))\n",
        "  edad = int(input(\"Edad:\"))\n",
        "  estado_civil = input(\"Estado civil(minuscula):\")\n",
        "  no_hijos = int(input(\"numero de hijos:\"))\n",
        "  estatura_cm = float(input(\"estatura en centimetros:\"))\n",
        "  fecha_contratacion = input(\"fecha de contratacion (dia/mes/año):\")\n",
        "  sueldo_basico = float(input(\"sueldo basico:\"))\n",
        "  dias_laborados = int(input(\"dias laborados (mes):\"))\n",
        "  # print(no_identificacion + \" , \" + nombres + \" , \" + apellidos + \" , \" + direccion + \" , \" + telefono + \" , \" + edad + \" , \" + estado_civil + \" , \" + no_hijos)\n",
        "  \n",
        "  #Si el empleado es mayor de 55 años disfrutara de un bono de prepension correspondiente al 5% de su sueldo basico.\n",
        "  if edad >= 55:\n",
        "    bono = sueldo_basico * 0.55\n",
        "    suel_total = sueldo_basico + bono\n",
        "    print(\"nBono de prepension ${:,.0f} \\nSueldo total ${:,.0f}\".format(bono, sue_total))\n",
        "  else:\n",
        "    print(f\"\\nSueldo total ${sueldo_basico:,.0f}\")\n",
        "\n",
        "  #Si el empleado es casado y tiene hijos se le otorgara un paseo cada diciembre \n",
        "  if estado_civil == \"casado\" or \"casado\" or \"casado\" and no_hijos >= 1:\n",
        "    print(\"\\nAcreedor de un viaje pago cada diciembre\")\n",
        "  else:\n",
        "    print(\"\\nNo es acreedor de un viaje pago cada diciembre\")\n",
        "\n",
        "  # Si el sueldo básico está entre 1000000 y 1500000 tendrá una comisión del 2% sobre el valor del sueldo\n",
        "  # Si el sueldo básico está entre 1500001 y 2000000 tendrá una comisión del 5% sobre el valor del sueldo\n",
        "  # para todos los demás casos no habrá comisión\n",
        "  if sueldo_basico >= 1000000 and sueldo_basico <= 1500000:\n",
        "    comi1 = sueldo_basico * 0.02\n",
        "    suel_comi1 = sueldo_basico + comi1\n",
        "    print(\"\\nValor de comision ${:,.0f} \\nSueldo total ${:,.0f}\".format(comi1, suel_comi1))\n",
        "  elif sueldo_basico >= 1500001 and sueldo_basico <= 2000000:\n",
        "    comi2 = sueldo_basico *0.05\n",
        "    suel_comi2 = sueldo_basico + comi2\n",
        "    print(\"\\nValor de comision ${:,.0f} \\nSueldo total ${:,.0f}\".format(comi2, suel_comi2))\n",
        "  else:\n",
        "    print(\"\\nSin comision   \")  \n",
        "\n",
        "  # Si el empleado trabajó más de 20 días al mes y su sueldo es menor a 1000000 tendrá derecho a un bono de alimentación\n",
        "  if dias_laborados >= 20 and sueldo_basico <= 1000000:\n",
        "      print(\"\\nAcreedor de un bono de alimentacion\")\n",
        "  else:\n",
        "      print(\"\\nNo es acreedor de un bono de alimentacion\")\n",
        "\n",
        "  resp = input(\"\\n\\n\\n¿desea diligenciar nuevamente el formulario? (s/n)\")         \n"
      ]
    }
  ]
}